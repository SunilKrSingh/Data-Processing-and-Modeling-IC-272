{
 "cells": [
  {
   "cell_type": "code",
   "execution_count": 1,
   "metadata": {},
   "outputs": [
    {
     "name": "stdout",
     "output_type": "stream",
     "text": [
      "Correlation between previous day and today:  0.7748702165384457\n"
     ]
    },
    {
     "data": {
      "text/plain": [
       "<matplotlib.figure.Figure at 0x7ff30219e208>"
      ]
     },
     "metadata": {},
     "output_type": "display_data"
    },
    {
     "data": {
      "text/plain": [
       "<matplotlib.figure.Figure at 0x7ff2fe3fbcf8>"
      ]
     },
     "metadata": {},
     "output_type": "display_data"
    },
    {
     "name": "stdout",
     "output_type": "stream",
     "text": [
      "Persistance model RMSE test:  1.6098654188057662\n",
      "Persistance model RMSE train:  2.7326191791491374\n",
      "Lag:  29\n",
      "Coefficients:  [ 0.5597728   0.58866203 -0.09081226  0.04816399  0.03999111  0.03936764\n",
      "  0.02594672  0.04467485  0.01314313  0.03714477 -0.00064057  0.00493921\n",
      "  0.01802399  0.02696084  0.00062344  0.02445702  0.00735302  0.00992487\n",
      "  0.03438475 -0.00909555  0.02416519  0.01856562  0.01229534 -0.01851848\n",
      " -0.00171714  0.01671254  0.019966    0.00963099  0.00636304 -0.0015663 ]\n",
      "Test RMSE 1.2252531298890275\n"
     ]
    }
   ],
   "source": [
    "import pandas as pd\n",
    "import matplotlib.pyplot as plt\n",
    "import numpy as np\n",
    "import statsmodels.api as sm\n",
    "from sklearn.metrics import mean_squared_error as mse\n",
    "from math import sqrt\n",
    "from statsmodels.tsa.ar_model import AR\n",
    "\n",
    "#Q1 I guess\n",
    "f = pd.read_csv(\"./daily-min-temperatures.csv\")\n",
    "cols = [\"Date\",\"Temp\"]\n",
    "d = f[\"Date\"].values\n",
    "t = f[\"Temp\"].values\n",
    "tp1 = t[1:len(t)]   #present day temperature\n",
    "tp2 = t[0:len(t)-1]   #previous day temperature\n",
    "print(\"Correlation between previous day and today: \",np.corrcoef(tp1,tp2)[0,1])\n",
    "\n",
    "f.plot()\n",
    "plt.show()\n",
    "#Q2 I guess\n",
    "sm.graphics.tsa.plot_acf(t, lags = 30)\n",
    "plt.show()\n",
    "\n",
    "#Q3 I guess\n",
    "ftr = f[0:-7]\n",
    "ft = f[-7:]\n",
    "\n",
    "ft1 = ft[1:]\n",
    "ft2 = ft[0:-1]\n",
    "\n",
    "print(\"Persistance model RMSE test: \",sqrt(mse(ft1[\"Temp\"].values,ft2[\"Temp\"].values)))\n",
    "\n",
    "ft1 = ftr[1:]\n",
    "ft2 = ftr[0:-1]\n",
    "\n",
    "print(\"Persistance model RMSE train: \",sqrt(mse(ft1[\"Temp\"].values,ft2[\"Temp\"].values)))\n",
    "\n",
    "#Q4 I guess\n",
    "train, test = ftr,ft\n",
    "train = train[\"Temp\"].values\n",
    "test = test[\"Temp\"].values\n",
    "\n",
    "model = AR(train)\n",
    "model_fit = model.fit()\n",
    "print('Lag: ', model_fit.k_ar)\n",
    "print('Coefficients: ', model_fit.params)\n",
    "\n",
    "predictions = model_fit.predict(start=len(train), end=len(train)+len(test)-1)\n",
    "\n",
    "error = sqrt(mse(test, predictions))\n",
    "print('Test RMSE',error)"
   ]
  }
 ],
 "metadata": {
  "kernelspec": {
   "display_name": "Python 3",
   "language": "python",
   "name": "python3"
  },
  "language_info": {
   "codemirror_mode": {
    "name": "ipython",
    "version": 3
   },
   "file_extension": ".py",
   "mimetype": "text/x-python",
   "name": "python",
   "nbconvert_exporter": "python",
   "pygments_lexer": "ipython3",
   "version": "3.6.8"
  }
 },
 "nbformat": 4,
 "nbformat_minor": 4
}

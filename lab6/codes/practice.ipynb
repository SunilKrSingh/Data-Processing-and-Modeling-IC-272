{
 "cells": [
  {
   "cell_type": "code",
   "execution_count": 34,
   "metadata": {},
   "outputs": [],
   "source": [
    "import numpy as np\n",
    "import matplotlib.pyplot as plt\n",
    "import pandas as pd\n",
    "from sklearn.preprocessing import MinMaxScaler\n",
    "from sklearn.preprocessing import StandardScaler\n",
    "from sklearn.neighbors import KNeighborsClassifier\n",
    "from sklearn.metrics import confusion_matrix\n",
    "from sklearn.metrics import accuracy_score\n",
    "from sklearn.model_selection import train_test_split\n",
    "from sklearn.naive_bayes import GaussianNB\n",
    "from sklearn.decomposition import PCA"
   ]
  },
  {
   "cell_type": "code",
   "execution_count": 4,
   "metadata": {},
   "outputs": [],
   "source": [
    "def load_dataset(path_to_file):\n",
    "    df=pd.read_csv(path_to_file)\n",
    "    return df"
   ]
  },
  {
   "cell_type": "code",
   "execution_count": 5,
   "metadata": {},
   "outputs": [],
   "source": [
    "def standardize(df):\n",
    "    scaler=StandardScaler()\n",
    "    df_std=pd.DataFrame(scaler.fit_transform(df),columns=df.columns)\n",
    "    df_std[df.columns[-1]]=df[df.columns[-1]]\n",
    "    return df_std"
   ]
  },
  {
   "cell_type": "code",
   "execution_count": 6,
   "metadata": {},
   "outputs": [],
   "source": [
    "def train_test(df):\n",
    "    X=df.drop(df.columns[-1],axis=1)\n",
    "    y=df[df.columns[-1]]\n",
    "    XTrain, XTest, yTrain, yTest = train_test_split(X, y, test_size=0.3, random_state=42)\n",
    "    return([XTrain,XTest,yTrain,yTest])"
   ]
  },
  {
   "cell_type": "code",
   "execution_count": 20,
   "metadata": {},
   "outputs": [],
   "source": [
    "def knn_classifier(k,XTrain,yTrain,XTest):\n",
    "    knn = KNeighborsClassifier(n_neighbors=k)\n",
    "    knn.fit(XTrain, yTrain)\n",
    "    yPred = knn.predict(XTest)\n",
    "    return yPred"
   ]
  },
  {
   "cell_type": "code",
   "execution_count": 8,
   "metadata": {},
   "outputs": [],
   "source": [
    "def percentage_accuracy(yPred,yTest):\n",
    "    return(accuracy_score(yTest, yPred))"
   ]
  },
  {
   "cell_type": "code",
   "execution_count": 9,
   "metadata": {},
   "outputs": [],
   "source": [
    "def confusion_matrixp(yPred,yTest):\n",
    "    return(confusion_matrix(yTest,yPred))"
   ]
  },
  {
   "cell_type": "code",
   "execution_count": 37,
   "metadata": {},
   "outputs": [],
   "source": [
    "def bayes_classifier(XTrain,yTrain,XTest):\n",
    "    gnb = GaussianNB()\n",
    "    gnb.fit(XTrain, yTrain)\n",
    "    yPred = gnb.predict(XTest)\n",
    "    return yPred"
   ]
  },
  {
   "cell_type": "markdown",
   "metadata": {},
   "source": [
    "def pca(df, lst):\n",
    "    Xdata=df.drop(df.columns[-1],axis=1)\n",
    "    DFs = []\n",
    "    for i in lst:\n",
    "        pca = PCA(n_components=i)\n",
    "        pComps = pca.fit_transform(Xdata)\n",
    "        pDF = pd.DataFrame(data = pComps)\n",
    "        pDF[df.columns[-1]]=df[df.columns[-1]]\n",
    "        DFs.append(pDF)\n",
    "    return DFs"
   ]
  },
  {
   "cell_type": "markdown",
   "metadata": {},
   "source": [
    "\"\"\"\n",
    "def pca(df, n):\n",
    "    Xdata=df.drop(df.columns[-1],axis=1)\n",
    "    pca = PCA(n_components=n)\n",
    "    principalComponents = pca.fit_transform(Xdata)\n",
    "    principalDf = pd.DataFrame(data = principalComponents)\n",
    "    pca = PCA(n_components=n)\n",
    "    pComps = pca.fit_transform(Xdata)\n",
    "    pDF = pd.DataFrame(data = pComps)\n",
    "    principalDf[df.columns[-1]]=df[df.columns[-1]]\n",
    "    return principalDf\n",
    "\"\"\""
   ]
  },
  {
   "cell_type": "markdown",
   "metadata": {},
   "source": [
    "def pda(df,n):\n",
    "    from sklearn.decomposition import PCA\n",
    "    x=df.drop(df.columns[-1],axis=1)\n",
    "    pca = PCA(n_components=n)\n",
    "    pComps = pca.fit_transform(x)\n",
    "    pDf = pd.DataFrame(data = pComps)\n",
    "    pDf[df.columns[-1]]=df[df.columns[-1]]\n",
    "    return pDf"
   ]
  },
  {
   "cell_type": "code",
   "execution_count": 125,
   "metadata": {},
   "outputs": [],
   "source": [
    "def pca(df,n):\n",
    "    x=df.drop(df.columns[-1],axis=1)\n",
    "    pca = PCA(n_components=n)\n",
    "    pComps = pca.fit_transform(x)\n",
    "    pDf = pd.DataFrame(data = pComps)\n",
    "    pDf[df.columns[-1]]=df[df.columns[-1]]\n",
    "    return pDf"
   ]
  },
  {
   "cell_type": "code",
   "execution_count": 165,
   "metadata": {},
   "outputs": [],
   "source": [
    "def main():\n",
    "    import warnings\n",
    "    from sklearn.exceptions import DataConversionWarning\n",
    "    warnings.filterwarnings(action='ignore', category=DataConversionWarning)\n",
    "    df=load_dataset(\"../files/pima-indians-diabetes.csv\")\n",
    "    print(df.shape)\n",
    "    l=range(len(df.columns)-2)\n",
    "    for i in l:\n",
    "        print(i)\n",
    "        pdf = pca(df,i)\n",
    "        #print(pdf.head())\n",
    "        print(pdf.shape)\n",
    "        dfStd=standardize(df)\n",
    "        XTrain=train_test(dfStd)[0]\n",
    "        XTest=train_test(dfStd)[1]\n",
    "        yTrain=pd.DataFrame(train_test(dfStd)[2])\n",
    "        yTest=pd.DataFrame(train_test(dfStd)[3])\n",
    "        print(XTrain.shape,yTrain.shape,XTest.shape,yTest.shape)\n",
    "        yPredBayes = bayes_classifier(XTrain,yTrain,XTest)\n",
    "    \n",
    "        #print(confusion_matrixp(yPredBayes,yTest))\n",
    "        print(\"Accuracy by Bayes Classifier:\",percentage_accuracy(yPredBayes,yTest))\n",
    "    \n",
    "        k = range(1,22,2)\n",
    "        accuracies=[]\n",
    "        for i in k:\n",
    "            #print(\"k = \",i)\n",
    "            yPredKnn=knn_classifier(i,XTrain,yTrain,XTest)\n",
    "            #print(confusion_matrixp(yPredKnn,yTest))\n",
    "            #print(percentage_accuracy(yPredKnn,yTest))\n",
    "            accuracies.append(percentage_accuracy(yPredKnn,yTest))\n",
    "            #print(\"\\n\")\n",
    "        print(\"Accuracy by KNN Classifier:\",sum(accuracies)/len(accuracies))\n",
    "    \n",
    "    \"\"\"\n",
    "    dfStd=standardize(df)\n",
    "    XTrain=train_test(dfStd)[0]\n",
    "    XTest=train_test(dfStd)[1]\n",
    "    yTrain=train_test(dfStd)[2]\n",
    "    yTest=train_test(dfStd)[3]\n",
    "    \n",
    "    #Xdata=df.drop(df.columns[-1],axis=1)\n",
    "    #ydata=df[df.columns[-1]]\n",
    "    \"\"\"\n",
    "    \"\"\"\n",
    "    l = range(len(df.columns))\n",
    "    DFs = pca(df, l)\n",
    "    DFs.append(df)\n",
    "    \n",
    "    for df in DFs:\n",
    "        dfStd=standardize(df)\n",
    "        XTrain=train_test(dfStd)[0]\n",
    "        XTest=train_test(dfStd)[1]\n",
    "        yTrain=train_test(dfStd)[2]\n",
    "        yTest=train_test(dfStd)[3]\n",
    "        \n",
    "        yPredBayes = bayes_classifier(XTrain,yTrain,XTest)\n",
    "    \n",
    "        #print(confusion_matrixp(yPredBayes,yTest))\n",
    "        print(\"Accuracy by Bayes Classifier: \",percentage_accuracy(yPredBayes,yTest))\n",
    "    \n",
    "        k = range(1,22,2)\n",
    "        accuracies=[]\n",
    "        for i in k:\n",
    "            #print(\"k = \",i)\n",
    "            yPredKnn=knn_classifier(i,XTrain,yTrain,XTest)\n",
    "            #print(confusion_matrixp(yPredKnn,yTest))\n",
    "            #print(percentage_accuracy(yPredKnn,yTest))\n",
    "            accuracies.append(percentage_accuracy(yPredKnn,yTest))\n",
    "            #print(\"\\n\")\n",
    "        print(\"Accuracy by KNN Classifier: \",sum(accuracies)/len(accuracies))\n",
    "        \n",
    "    \n",
    "    yPredBayes = bayes_classifier(XTrain,yTrain,XTest)\n",
    "    \n",
    "    #print(confusion_matrixp(yPredBayes,yTest))\n",
    "    print(\"Accuracy by Bayes Classifier:\",percentage_accuracy(yPredBayes,yTest))\n",
    "    \n",
    "    k = range(1,22,2)\n",
    "    accuracies=[]\n",
    "    for i in k:\n",
    "        #print(\"k = \",i)\n",
    "        yPredKnn=knn_classifier(i,XTrain,yTrain,XTest)\n",
    "        #print(confusion_matrixp(yPredKnn,yTest))\n",
    "        #print(percentage_accuracy(yPredKnn,yTest))\n",
    "        accuracies.append(percentage_accuracy(yPredKnn,yTest))\n",
    "        #print(\"\\n\")\n",
    "    print(\"Accuracy by KNN Classifier:\",sum(accuracies)/len(accuracies))\n",
    "    \"\"\"\n",
    "    \"\"\"\n",
    "    print(\"\\n\")\n",
    "    plt.plot(range(1,22,2),accuracies,color='b')\n",
    "    plt.xlabel(\"Value of k\")\n",
    "    plt.ylabel(\"Accuracy\")\n",
    "    plt.show()\n",
    "    \"\"\""
   ]
  },
  {
   "cell_type": "code",
   "execution_count": 166,
   "metadata": {},
   "outputs": [
    {
     "name": "stdout",
     "output_type": "stream",
     "text": [
      "(768, 9)\n",
      "0\n",
      "(768, 1)\n",
      "(537, 8) (537, 1) (231, 8) (231, 1)\n",
      "Accuracy by Bayes Classifier: 0.7445887445887446\n",
      "Accuracy by KNN Classifier: 0.70995670995671\n",
      "1\n",
      "(768, 2)\n",
      "(537, 8) (537, 1) (231, 8) (231, 1)\n",
      "Accuracy by Bayes Classifier: 0.7445887445887446\n",
      "Accuracy by KNN Classifier: 0.70995670995671\n",
      "2\n",
      "(768, 3)\n",
      "(537, 8) (537, 1) (231, 8) (231, 1)\n",
      "Accuracy by Bayes Classifier: 0.7445887445887446\n",
      "Accuracy by KNN Classifier: 0.70995670995671\n",
      "3\n",
      "(768, 4)\n",
      "(537, 8) (537, 1) (231, 8) (231, 1)\n",
      "Accuracy by Bayes Classifier: 0.7445887445887446\n",
      "Accuracy by KNN Classifier: 0.70995670995671\n",
      "4\n",
      "(768, 5)\n",
      "(537, 8) (537, 1) (231, 8) (231, 1)\n",
      "Accuracy by Bayes Classifier: 0.7445887445887446\n",
      "Accuracy by KNN Classifier: 0.70995670995671\n",
      "5\n",
      "(768, 6)\n",
      "(537, 8) (537, 1) (231, 8) (231, 1)\n",
      "Accuracy by Bayes Classifier: 0.7445887445887446\n",
      "Accuracy by KNN Classifier: 0.70995670995671\n",
      "6\n",
      "(768, 7)\n",
      "(537, 8) (537, 1) (231, 8) (231, 1)\n",
      "Accuracy by Bayes Classifier: 0.7445887445887446\n",
      "Accuracy by KNN Classifier: 0.70995670995671\n"
     ]
    }
   ],
   "source": [
    "if __name__ == \"__main__\":\n",
    "    main()"
   ]
  },
  {
   "cell_type": "code",
   "execution_count": 144,
   "metadata": {},
   "outputs": [
    {
     "ename": "SyntaxError",
     "evalue": "invalid syntax (<ipython-input-144-662214850185>, line 1)",
     "output_type": "error",
     "traceback": [
      "\u001b[0;36m  File \u001b[0;32m\"<ipython-input-144-662214850185>\"\u001b[0;36m, line \u001b[0;32m1\u001b[0m\n\u001b[0;31m    Accuracy by Bayes Classifier: 0.7445887445887446\u001b[0m\n\u001b[0m              ^\u001b[0m\n\u001b[0;31mSyntaxError\u001b[0m\u001b[0;31m:\u001b[0m invalid syntax\n"
     ]
    }
   ],
   "source": [
    "Accuracy by Bayes Classifier: 0.7445887445887446\n",
    "Accuracy by KNN Classifier: 0.70995670995671\n"
   ]
  },
  {
   "cell_type": "code",
   "execution_count": 116,
   "metadata": {},
   "outputs": [
    {
     "name": "stdout",
     "output_type": "stream",
     "text": [
      "1\n",
      "           0  class\n",
      "0 -75.714655      1\n",
      "1 -82.358268      0\n",
      "2 -74.630643      1\n",
      "3  11.077423      0\n",
      "4  89.743788      1\n",
      "2\n",
      "           0          1  class\n",
      "0 -75.714655 -35.950783      1\n",
      "1 -82.358268  28.908213      0\n",
      "2 -74.630643 -67.906496      1\n",
      "3  11.077423  34.898486      0\n",
      "4  89.743788  -2.746937      1\n",
      "3\n",
      "           0          1          2  class\n",
      "0 -75.714655 -35.950783  -7.260789      1\n",
      "1 -82.358268  28.908213  -5.496671      0\n",
      "2 -74.630643 -67.906496  19.461808      1\n",
      "3  11.077423  34.898486  -0.053018      0\n",
      "4  89.743788  -2.746937  25.212859      1\n",
      "4\n",
      "           0          1          2          3  class\n",
      "0 -75.714655 -35.950783  -7.260789  15.669269      1\n",
      "1 -82.358268  28.908213  -5.496671   9.004554      0\n",
      "2 -74.630643 -67.906496  19.461808  -5.653056      1\n",
      "3  11.077423  34.898486  -0.053018   1.314873      0\n",
      "4  89.743788  -2.746937  25.212859  18.994237      1\n"
     ]
    }
   ],
   "source": [
    "df=load_dataset(\"../files/pima-indians-diabetes.csv\")\n",
    "\n",
    "l=[1,2,3,4]\n",
    "\n",
    "def pda(df,n):\n",
    "    x=df.drop(df.columns[-1],axis=1)\n",
    "    pca = PCA(n_components=n)\n",
    "    pComps = pca.fit_transform(x)\n",
    "    pDf = pd.DataFrame(data = pComps)\n",
    "    pDf[df.columns[-1]]=df[df.columns[-1]]\n",
    "    print(pDf.head())\n",
    "for i in l:\n",
    "    print(i)\n",
    "    pda(df,i)"
   ]
  },
  {
   "cell_type": "code",
   "execution_count": null,
   "metadata": {},
   "outputs": [],
   "source": []
  },
  {
   "cell_type": "code",
   "execution_count": null,
   "metadata": {},
   "outputs": [],
   "source": []
  }
 ],
 "metadata": {
  "kernelspec": {
   "display_name": "Python 3",
   "language": "python",
   "name": "python3"
  },
  "language_info": {
   "codemirror_mode": {
    "name": "ipython",
    "version": 3
   },
   "file_extension": ".py",
   "mimetype": "text/x-python",
   "name": "python",
   "nbconvert_exporter": "python",
   "pygments_lexer": "ipython3",
   "version": "3.6.8"
  }
 },
 "nbformat": 4,
 "nbformat_minor": 2
}

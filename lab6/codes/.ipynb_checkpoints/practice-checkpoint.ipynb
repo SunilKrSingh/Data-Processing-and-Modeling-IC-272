{
 "cells": [
  {
   "cell_type": "code",
   "execution_count": 4,
   "metadata": {},
   "outputs": [],
   "source": [
    "import numpy as np\n",
    "import matplotlib.pyplot as plt\n",
    "import pandas as pd\n",
    "from sklearn.preprocessing import MinMaxScaler\n",
    "from sklearn.preprocessing import StandardScaler\n",
    "from sklearn.neighbors import KNeighborsClassifier\n",
    "from sklearn.metrics import confusion_matrix\n",
    "from sklearn.metrics import accuracy_score\n",
    "from sklearn.model_selection import train_test_split"
   ]
  },
  {
   "cell_type": "code",
   "execution_count": 5,
   "metadata": {},
   "outputs": [],
   "source": [
    "def load_dataset(path_to_file):\n",
    "    df=pd.read_csv(path_to_file)\n",
    "    return df"
   ]
  },
  {
   "cell_type": "code",
   "execution_count": 6,
   "metadata": {},
   "outputs": [],
   "source": [
    "def standardize(df):\n",
    "    scaler=StandardScaler()\n",
    "    df_std=pd.DataFrame(scaler.fit_transform(df),columns=df.columns)\n",
    "    df_std[df.columns[-1]]=df[df.columns[-1]]\n",
    "    return df_std"
   ]
  },
  {
   "cell_type": "code",
   "execution_count": 19,
   "metadata": {},
   "outputs": [],
   "source": [
    "def train_test(df):\n",
    "    X=df.drop(df.columns[-1],axis=1)\n",
    "    y=df[df.columns[-1]]\n",
    "    XTrain, XTest, yTrain, yTest = train_test_split(X, y, test_size=0.3, random_state=42)\n",
    "    return([XTrain,XTest,yTrain,yTest])"
   ]
  },
  {
   "cell_type": "code",
   "execution_count": 8,
   "metadata": {},
   "outputs": [],
   "source": [
    "def classification(k,XTrain,yTrain,XTest):\n",
    "    knn = KNeighborsClassifier(n_neighbors=k)\n",
    "    knn.fit(XTrain, yTrain)\n",
    "    yPred = knn.predict(XTest)\n",
    "    return yPred"
   ]
  },
  {
   "cell_type": "code",
   "execution_count": 9,
   "metadata": {},
   "outputs": [],
   "source": [
    "def percentage_accuracy(yPred,yTest):\n",
    "    return(accuracy_score(yTest, yPred))"
   ]
  },
  {
   "cell_type": "code",
   "execution_count": 10,
   "metadata": {},
   "outputs": [],
   "source": [
    "def confusion_matrixp(yPred,yTest):\n",
    "    return(confusion_matrix(yTest,yPred))"
   ]
  },
  {
   "cell_type": "code",
   "execution_count": 20,
   "metadata": {},
   "outputs": [],
   "source": [
    "def main():\n",
    "    df=load_dataset(\"../files/pima-indians-diabetes.csv\")\n",
    "    dfStd=standardize(df)\n",
    "    XTrain=train_test(dfStd)[0]\n",
    "    XTest=train_test(dfStd)[1]\n",
    "    yTrain=train_test(dfStd)[2]\n",
    "    yTest=train_test(dfStd)[3]\n",
    "\n",
    "    k = range(1,22,2)\n",
    "    accuracies=[]\n",
    "    for i in k:\n",
    "        print(\"k = \",i)\n",
    "        yPred=classification(i,XTrain,yTrain,XTest)\n",
    "        print(confusion_matrixp(yPred,yTest))\n",
    "        print(percentage_accuracy(yPred,yTest))\n",
    "        accuracies.append(percentage_accuracy(yPred,yTest))\n",
    "        print(\"\\n\")\n",
    "    #print(s.index(np.max(s))*2+1)\n",
    "    print(\"\\n\")\n",
    "    plt.plot(range(1,22,2),accuracies,color='b')\n",
    "    plt.xlabel(\"Value of k\")\n",
    "    plt.ylabel(\"Accuracy\")\n",
    "    plt.show()"
   ]
  },
  {
   "cell_type": "code",
   "execution_count": 21,
   "metadata": {},
   "outputs": [
    {
     "name": "stdout",
     "output_type": "stream",
     "text": [
      "k =  1\n",
      "[[108  43]\n",
      " [ 44  36]]\n",
      "0.6233766233766234\n",
      "\n",
      "\n",
      "k =  3\n",
      "[[123  28]\n",
      " [ 39  41]]\n",
      "0.70995670995671\n",
      "\n",
      "\n",
      "k =  5\n",
      "[[119  32]\n",
      " [ 39  41]]\n",
      "0.6926406926406926\n",
      "\n",
      "\n",
      "k =  7\n",
      "[[123  28]\n",
      " [ 37  43]]\n",
      "0.7186147186147186\n",
      "\n",
      "\n",
      "k =  9\n",
      "[[121  30]\n",
      " [ 39  41]]\n",
      "0.7012987012987013\n",
      "\n",
      "\n",
      "k =  11\n",
      "[[121  30]\n",
      " [ 39  41]]\n",
      "0.7012987012987013\n",
      "\n",
      "\n",
      "k =  13\n",
      "[[125  26]\n",
      " [ 40  40]]\n",
      "0.7142857142857143\n",
      "\n",
      "\n",
      "k =  15\n",
      "[[128  23]\n",
      " [ 41  39]]\n",
      "0.7229437229437229\n",
      "\n",
      "\n",
      "k =  17\n",
      "[[129  22]\n",
      " [ 41  39]]\n",
      "0.7272727272727273\n",
      "\n",
      "\n",
      "k =  19\n",
      "[[131  20]\n",
      " [ 39  41]]\n",
      "0.7445887445887446\n",
      "\n",
      "\n",
      "k =  21\n",
      "[[132  19]\n",
      " [ 38  42]]\n",
      "0.7532467532467533\n",
      "\n",
      "\n",
      "\n",
      "\n"
     ]
    },
    {
     "data": {
      "image/png": "[encoded data removed]",
      "text/plain": [
       "<matplotlib.figure.Figure at 0x7f612f596630>"
      ]
     },
     "metadata": {},
     "output_type": "display_data"
    }
   ],
   "source": [
    "if __name__ == \"__main__\":\n",
    "    main()"
   ]
  },
  {
   "cell_type": "code",
   "execution_count": null,
   "metadata": {},
   "outputs": [],
   "source": []
  }
 ],
 "metadata": {
  "kernelspec": {
   "display_name": "Python 3",
   "language": "python",
   "name": "python3"
  },
  "language_info": {
   "codemirror_mode": {
    "name": "ipython",
    "version": 3
   },
   "file_extension": ".py",
   "mimetype": "text/x-python",
   "name": "python",
   "nbconvert_exporter": "python",
   "pygments_lexer": "ipython3",
   "version": "3.6.8"
  }
 },
 "nbformat": 4,
 "nbformat_minor": 2
}

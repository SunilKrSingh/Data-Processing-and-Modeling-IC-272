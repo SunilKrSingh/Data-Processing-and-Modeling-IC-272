{
 "cells": [
  {
   "cell_type": "code",
   "execution_count": 42,
   "metadata": {},
   "outputs": [],
   "source": [
    "import matplotlib.pyplot as plt\n",
    "import pandas as pd\n",
    "import numpy as np"
   ]
  },
  {
   "cell_type": "code",
   "execution_count": 43,
   "metadata": {},
   "outputs": [],
   "source": [
    "def read_data(path):\n",
    "    df = pd.read_csv(\"winequality_red_original.csv\")\n",
    "    return df"
   ]
  },
  {
   "cell_type": "code",
   "execution_count": 44,
   "metadata": {},
   "outputs": [],
   "source": [
    "df = read_data(\"winequality_red_original.csv\")"
   ]
  },
  {
   "cell_type": "code",
   "execution_count": 45,
   "metadata": {},
   "outputs": [
    {
     "data": {
      "text/html": [
       "<div>\n",
       "<style scoped>\n",
       "    .dataframe tbody tr th:only-of-type {\n",
       "        vertical-align: middle;\n",
       "    }\n",
       "\n",
       "    .dataframe tbody tr th {\n",
       "        vertical-align: top;\n",
       "    }\n",
       "\n",
       "    .dataframe thead th {\n",
       "        text-align: right;\n",
       "    }\n",
       "</style>\n",
       "<table border=\"1\" class=\"dataframe\">\n",
       "  <thead>\n",
       "    <tr style=\"text-align: right;\">\n",
       "      <th></th>\n",
       "      <th>fixed_acidity</th>\n",
       "      <th>volatile_acidity</th>\n",
       "      <th>citric_acid</th>\n",
       "      <th>residual_sugar</th>\n",
       "      <th>chlorides</th>\n",
       "      <th>free_sulfur_dioxide</th>\n",
       "      <th>total_sulfur_dioxide</th>\n",
       "      <th>density</th>\n",
       "      <th>pH</th>\n",
       "      <th>sulphates</th>\n",
       "      <th>alcohol</th>\n",
       "      <th>quality</th>\n",
       "    </tr>\n",
       "  </thead>\n",
       "  <tbody>\n",
       "    <tr>\n",
       "      <th>0</th>\n",
       "      <td>7.4</td>\n",
       "      <td>0.70</td>\n",
       "      <td>0.00</td>\n",
       "      <td>1.9</td>\n",
       "      <td>0.076</td>\n",
       "      <td>11.0</td>\n",
       "      <td>34.0</td>\n",
       "      <td>0.9978</td>\n",
       "      <td>3.51</td>\n",
       "      <td>0.56</td>\n",
       "      <td>9.4</td>\n",
       "      <td>5</td>\n",
       "    </tr>\n",
       "    <tr>\n",
       "      <th>1</th>\n",
       "      <td>7.8</td>\n",
       "      <td>0.88</td>\n",
       "      <td>0.00</td>\n",
       "      <td>2.6</td>\n",
       "      <td>0.098</td>\n",
       "      <td>25.0</td>\n",
       "      <td>67.0</td>\n",
       "      <td>0.9968</td>\n",
       "      <td>3.20</td>\n",
       "      <td>0.68</td>\n",
       "      <td>9.8</td>\n",
       "      <td>5</td>\n",
       "    </tr>\n",
       "    <tr>\n",
       "      <th>2</th>\n",
       "      <td>7.8</td>\n",
       "      <td>0.76</td>\n",
       "      <td>0.04</td>\n",
       "      <td>2.3</td>\n",
       "      <td>0.092</td>\n",
       "      <td>15.0</td>\n",
       "      <td>54.0</td>\n",
       "      <td>0.9970</td>\n",
       "      <td>3.26</td>\n",
       "      <td>0.65</td>\n",
       "      <td>9.8</td>\n",
       "      <td>5</td>\n",
       "    </tr>\n",
       "    <tr>\n",
       "      <th>3</th>\n",
       "      <td>11.2</td>\n",
       "      <td>0.28</td>\n",
       "      <td>0.56</td>\n",
       "      <td>1.9</td>\n",
       "      <td>0.075</td>\n",
       "      <td>17.0</td>\n",
       "      <td>60.0</td>\n",
       "      <td>0.9980</td>\n",
       "      <td>3.16</td>\n",
       "      <td>0.58</td>\n",
       "      <td>9.8</td>\n",
       "      <td>6</td>\n",
       "    </tr>\n",
       "    <tr>\n",
       "      <th>4</th>\n",
       "      <td>7.4</td>\n",
       "      <td>0.70</td>\n",
       "      <td>0.00</td>\n",
       "      <td>1.9</td>\n",
       "      <td>0.076</td>\n",
       "      <td>11.0</td>\n",
       "      <td>34.0</td>\n",
       "      <td>0.9978</td>\n",
       "      <td>3.51</td>\n",
       "      <td>0.56</td>\n",
       "      <td>9.4</td>\n",
       "      <td>5</td>\n",
       "    </tr>\n",
       "  </tbody>\n",
       "</table>\n",
       "</div>"
      ],
      "text/plain": [
       "   fixed_acidity  volatile_acidity  citric_acid  residual_sugar  chlorides  \\\n",
       "0            7.4              0.70         0.00             1.9      0.076   \n",
       "1            7.8              0.88         0.00             2.6      0.098   \n",
       "2            7.8              0.76         0.04             2.3      0.092   \n",
       "3           11.2              0.28         0.56             1.9      0.075   \n",
       "4            7.4              0.70         0.00             1.9      0.076   \n",
       "\n",
       "   free_sulfur_dioxide  total_sulfur_dioxide  density    pH  sulphates  \\\n",
       "0                 11.0                  34.0   0.9978  3.51       0.56   \n",
       "1                 25.0                  67.0   0.9968  3.20       0.68   \n",
       "2                 15.0                  54.0   0.9970  3.26       0.65   \n",
       "3                 17.0                  60.0   0.9980  3.16       0.58   \n",
       "4                 11.0                  34.0   0.9978  3.51       0.56   \n",
       "\n",
       "   alcohol  quality  \n",
       "0      9.4        5  \n",
       "1      9.8        5  \n",
       "2      9.8        5  \n",
       "3      9.8        6  \n",
       "4      9.4        5  "
      ]
     },
     "execution_count": 45,
     "metadata": {},
     "output_type": "execute_result"
    }
   ],
   "source": [
    "df.head()"
   ]
  },
  {
   "cell_type": "code",
   "execution_count": 46,
   "metadata": {},
   "outputs": [],
   "source": [
    "def show_box_plot(attr, df):\n",
    "    plt.boxplot(df[attr])\n",
    "    return None"
   ]
  },
  {
   "cell_type": "code",
   "execution_count": 47,
   "metadata": {},
   "outputs": [
    {
     "name": "stdout",
     "output_type": "stream",
     "text": [
      "fixed_acidity\n"
     ]
    },
    {
     "data": {
      "image/png": "[encoded data removed]",
      "text/plain": [
       "<matplotlib.figure.Figure at 0x7f08d35e47b8>"
      ]
     },
     "metadata": {},
     "output_type": "display_data"
    },
    {
     "name": "stdout",
     "output_type": "stream",
     "text": [
      "volatile_acidity\n"
     ]
    },
    {
     "data": {
      "image/png": "[encoded data removed]",
      "text/plain": [
       "<matplotlib.figure.Figure at 0x7f08d2c314a8>"
      ]
     },
     "metadata": {},
     "output_type": "display_data"
    },
    {
     "name": "stdout",
     "output_type": "stream",
     "text": [
      "citric_acid\n"
     ]
    },
    {
     "data": {
      "image/png": "[encoded data removed]",
      "text/plain": [
       "<matplotlib.figure.Figure at 0x7f08d2e2d5f8>"
      ]
     },
     "metadata": {},
     "output_type": "display_data"
    },
    {
     "name": "stdout",
     "output_type": "stream",
     "text": [
      "residual_sugar\n"
     ]
    },
    {
     "data": {
      "image/png": "[encoded data removed]",
      "text/plain": [
       "<matplotlib.figure.Figure at 0x7f08d2da5128>"
      ]
     },
     "metadata": {},
     "output_type": "display_data"
    },
    {
     "name": "stdout",
     "output_type": "stream",
     "text": [
      "chlorides\n"
     ]
    },
    {
     "data": {
      "image/png": "[encoded data removed]",
      "text/plain": [
       "<matplotlib.figure.Figure at 0x7f08d2d0fc18>"
      ]
     },
     "metadata": {},
     "output_type": "display_data"
    },
    {
     "name": "stdout",
     "output_type": "stream",
     "text": [
      "free_sulfur_dioxide\n"
     ]
    },
    {
     "data": {
      "image/png": "[encoded data removed]",
      "text/plain": [
       "<matplotlib.figure.Figure at 0x7f08d2b2bba8>"
      ]
     },
     "metadata": {},
     "output_type": "display_data"
    },
    {
     "name": "stdout",
     "output_type": "stream",
     "text": [
      "total_sulfur_dioxide\n"
     ]
    },
    {
     "data": {
      "image/png": "[encoded data removed]",
      "text/plain": [
       "<matplotlib.figure.Figure at 0x7f08d2afdc88>"
      ]
     },
     "metadata": {},
     "output_type": "display_data"
    },
    {
     "name": "stdout",
     "output_type": "stream",
     "text": [
      "density\n"
     ]
    },
    {
     "data": {
      "image/png": "[encoded data removed]",
      "text/plain": [
       "<matplotlib.figure.Figure at 0x7f08d2c47f98>"
      ]
     },
     "metadata": {},
     "output_type": "display_data"
    },
    {
     "name": "stdout",
     "output_type": "stream",
     "text": [
      "pH\n"
     ]
    },
    {
     "data": {
      "image/png": "[encoded data removed]",
      "text/plain": [
       "<matplotlib.figure.Figure at 0x7f08d2a94cc0>"
      ]
     },
     "metadata": {},
     "output_type": "display_data"
    },
    {
     "name": "stdout",
     "output_type": "stream",
     "text": [
      "sulphates\n"
     ]
    },
    {
     "data": {
      "image/png": "[encoded data removed]",
      "text/plain": [
       "<matplotlib.figure.Figure at 0x7f08d29f3d30>"
      ]
     },
     "metadata": {},
     "output_type": "display_data"
    },
    {
     "name": "stdout",
     "output_type": "stream",
     "text": [
      "alcohol\n"
     ]
    },
    {
     "data": {
      "image/png": "[encoded data removed]",
      "text/plain": [
       "<matplotlib.figure.Figure at 0x7f08d2a94630>"
      ]
     },
     "metadata": {},
     "output_type": "display_data"
    },
    {
     "name": "stdout",
     "output_type": "stream",
     "text": [
      "quality\n"
     ]
    },
    {
     "data": {
      "image/png": "[encoded data removed]",
      "text/plain": [
       "<matplotlib.figure.Figure at 0x7f08d2da5550>"
      ]
     },
     "metadata": {},
     "output_type": "display_data"
    }
   ],
   "source": [
    "cols = [i for i in df]\n",
    "for col in cols:\n",
    "    print(col)\n",
    "    show_box_plot(col, df)\n",
    "    plt.show()"
   ]
  },
  {
   "cell_type": "code",
   "execution_count": 48,
   "metadata": {},
   "outputs": [],
   "source": [
    "def replace_outliers(df):\n",
    "    cols = [i for i in df]\n",
    "    for col in cols:\n",
    "        #print(col)\n",
    "        q3 = df[col].quantile(0.75)\n",
    "        #print(\"q3= \",q3)\n",
    "        q1 = df[col].quantile(0.25)\n",
    "        #print(\"q1= \",q1)\n",
    "        iqr = q3-q1\n",
    "        #print(\"iqr= \",iqr)\n",
    "        median = df[col].median()\n",
    "        #print(print(\"median= \",median,'\\n'))\n",
    "        for i in range(len(df)):\n",
    "            if df[col][i]>=q3+(1.5*iqr):\n",
    "                df[col][i] = median\n",
    "            elif df[col][i]<=q1-(1.5*iqr):\n",
    "                df[col][i] = median\n",
    "    return df"
   ]
  },
  {
   "cell_type": "code",
   "execution_count": 49,
   "metadata": {},
   "outputs": [],
   "source": [
    "pd.options.mode.chained_assignment = None\n",
    "df = replace_outliers(df)"
   ]
  },
  {
   "cell_type": "code",
   "execution_count": 50,
   "metadata": {},
   "outputs": [
    {
     "data": {
      "text/html": [
       "<div>\n",
       "<style scoped>\n",
       "    .dataframe tbody tr th:only-of-type {\n",
       "        vertical-align: middle;\n",
       "    }\n",
       "\n",
       "    .dataframe tbody tr th {\n",
       "        vertical-align: top;\n",
       "    }\n",
       "\n",
       "    .dataframe thead th {\n",
       "        text-align: right;\n",
       "    }\n",
       "</style>\n",
       "<table border=\"1\" class=\"dataframe\">\n",
       "  <thead>\n",
       "    <tr style=\"text-align: right;\">\n",
       "      <th></th>\n",
       "      <th>fixed_acidity</th>\n",
       "      <th>volatile_acidity</th>\n",
       "      <th>citric_acid</th>\n",
       "      <th>residual_sugar</th>\n",
       "      <th>chlorides</th>\n",
       "      <th>free_sulfur_dioxide</th>\n",
       "      <th>total_sulfur_dioxide</th>\n",
       "      <th>density</th>\n",
       "      <th>pH</th>\n",
       "      <th>sulphates</th>\n",
       "      <th>alcohol</th>\n",
       "      <th>quality</th>\n",
       "    </tr>\n",
       "  </thead>\n",
       "  <tbody>\n",
       "    <tr>\n",
       "      <th>0</th>\n",
       "      <td>7.4</td>\n",
       "      <td>0.70</td>\n",
       "      <td>0.00</td>\n",
       "      <td>1.9</td>\n",
       "      <td>0.076</td>\n",
       "      <td>11.0</td>\n",
       "      <td>34.0</td>\n",
       "      <td>0.9978</td>\n",
       "      <td>3.51</td>\n",
       "      <td>0.56</td>\n",
       "      <td>9.4</td>\n",
       "      <td>5</td>\n",
       "    </tr>\n",
       "    <tr>\n",
       "      <th>1</th>\n",
       "      <td>7.8</td>\n",
       "      <td>0.88</td>\n",
       "      <td>0.00</td>\n",
       "      <td>2.6</td>\n",
       "      <td>0.098</td>\n",
       "      <td>25.0</td>\n",
       "      <td>67.0</td>\n",
       "      <td>0.9968</td>\n",
       "      <td>3.20</td>\n",
       "      <td>0.68</td>\n",
       "      <td>9.8</td>\n",
       "      <td>5</td>\n",
       "    </tr>\n",
       "    <tr>\n",
       "      <th>2</th>\n",
       "      <td>7.8</td>\n",
       "      <td>0.76</td>\n",
       "      <td>0.04</td>\n",
       "      <td>2.3</td>\n",
       "      <td>0.092</td>\n",
       "      <td>15.0</td>\n",
       "      <td>54.0</td>\n",
       "      <td>0.9970</td>\n",
       "      <td>3.26</td>\n",
       "      <td>0.65</td>\n",
       "      <td>9.8</td>\n",
       "      <td>5</td>\n",
       "    </tr>\n",
       "    <tr>\n",
       "      <th>3</th>\n",
       "      <td>11.2</td>\n",
       "      <td>0.28</td>\n",
       "      <td>0.56</td>\n",
       "      <td>1.9</td>\n",
       "      <td>0.075</td>\n",
       "      <td>17.0</td>\n",
       "      <td>60.0</td>\n",
       "      <td>0.9980</td>\n",
       "      <td>3.16</td>\n",
       "      <td>0.58</td>\n",
       "      <td>9.8</td>\n",
       "      <td>6</td>\n",
       "    </tr>\n",
       "    <tr>\n",
       "      <th>4</th>\n",
       "      <td>7.4</td>\n",
       "      <td>0.70</td>\n",
       "      <td>0.00</td>\n",
       "      <td>1.9</td>\n",
       "      <td>0.076</td>\n",
       "      <td>11.0</td>\n",
       "      <td>34.0</td>\n",
       "      <td>0.9978</td>\n",
       "      <td>3.51</td>\n",
       "      <td>0.56</td>\n",
       "      <td>9.4</td>\n",
       "      <td>5</td>\n",
       "    </tr>\n",
       "  </tbody>\n",
       "</table>\n",
       "</div>"
      ],
      "text/plain": [
       "   fixed_acidity  volatile_acidity  citric_acid  residual_sugar  chlorides  \\\n",
       "0            7.4              0.70         0.00             1.9      0.076   \n",
       "1            7.8              0.88         0.00             2.6      0.098   \n",
       "2            7.8              0.76         0.04             2.3      0.092   \n",
       "3           11.2              0.28         0.56             1.9      0.075   \n",
       "4            7.4              0.70         0.00             1.9      0.076   \n",
       "\n",
       "   free_sulfur_dioxide  total_sulfur_dioxide  density    pH  sulphates  \\\n",
       "0                 11.0                  34.0   0.9978  3.51       0.56   \n",
       "1                 25.0                  67.0   0.9968  3.20       0.68   \n",
       "2                 15.0                  54.0   0.9970  3.26       0.65   \n",
       "3                 17.0                  60.0   0.9980  3.16       0.58   \n",
       "4                 11.0                  34.0   0.9978  3.51       0.56   \n",
       "\n",
       "   alcohol  quality  \n",
       "0      9.4        5  \n",
       "1      9.8        5  \n",
       "2      9.8        5  \n",
       "3      9.8        6  \n",
       "4      9.4        5  "
      ]
     },
     "execution_count": 50,
     "metadata": {},
     "output_type": "execute_result"
    }
   ],
   "source": [
    "df.head()"
   ]
  },
  {
   "cell_type": "code",
   "execution_count": 51,
   "metadata": {},
   "outputs": [],
   "source": [
    "df2=df\n",
    "df3=df\n",
    "df4=df"
   ]
  },
  {
   "cell_type": "code",
   "execution_count": 52,
   "metadata": {},
   "outputs": [
    {
     "name": "stdout",
     "output_type": "stream",
     "text": [
      "fixed_acidity\n"
     ]
    },
    {
     "data": {
      "image/png": "[encoded data removed]",
      "text/plain": [
       "<matplotlib.figure.Figure at 0x7f08d2d0c198>"
      ]
     },
     "metadata": {},
     "output_type": "display_data"
    },
    {
     "name": "stdout",
     "output_type": "stream",
     "text": [
      "volatile_acidity\n"
     ]
    },
    {
     "data": {
      "image/png": "[encoded data removed]",
      "text/plain": [
       "<matplotlib.figure.Figure at 0x7f08d2f539e8>"
      ]
     },
     "metadata": {},
     "output_type": "display_data"
    },
    {
     "name": "stdout",
     "output_type": "stream",
     "text": [
      "citric_acid\n"
     ]
    },
    {
     "data": {
      "image/png": "[encoded data removed]",
      "text/plain": [
       "<matplotlib.figure.Figure at 0x7f08d2e60048>"
      ]
     },
     "metadata": {},
     "output_type": "display_data"
    },
    {
     "name": "stdout",
     "output_type": "stream",
     "text": [
      "residual_sugar\n"
     ]
    },
    {
     "data": {
      "image/png": "[encoded data removed]",
      "text/plain": [
       "<matplotlib.figure.Figure at 0x7f08d2dc5e10>"
      ]
     },
     "metadata": {},
     "output_type": "display_data"
    },
    {
     "name": "stdout",
     "output_type": "stream",
     "text": [
      "chlorides\n"
     ]
    },
    {
     "data": {
      "image/png": "[encoded data removed]",
      "text/plain": [
       "<matplotlib.figure.Figure at 0x7f08d2b23fd0>"
      ]
     },
     "metadata": {},
     "output_type": "display_data"
    },
    {
     "name": "stdout",
     "output_type": "stream",
     "text": [
      "free_sulfur_dioxide\n"
     ]
    },
    {
     "data": {
      "image/png": "[encoded data removed]",
      "text/plain": [
       "<matplotlib.figure.Figure at 0x7f08d2eabda0>"
      ]
     },
     "metadata": {},
     "output_type": "display_data"
    },
    {
     "name": "stdout",
     "output_type": "stream",
     "text": [
      "total_sulfur_dioxide\n"
     ]
    },
    {
     "data": {
      "image/png": "[encoded data removed]",
      "text/plain": [
       "<matplotlib.figure.Figure at 0x7f08d2cf8fd0>"
      ]
     },
     "metadata": {},
     "output_type": "display_data"
    },
    {
     "name": "stdout",
     "output_type": "stream",
     "text": [
      "density\n"
     ]
    },
    {
     "data": {
      "image/png": "[encoded data removed]",
      "text/plain": [
       "<matplotlib.figure.Figure at 0x7f08d2bb0b00>"
      ]
     },
     "metadata": {},
     "output_type": "display_data"
    },
    {
     "name": "stdout",
     "output_type": "stream",
     "text": [
      "pH\n"
     ]
    },
    {
     "data": {
      "image/png": "[encoded data removed]",
      "text/plain": [
       "<matplotlib.figure.Figure at 0x7f08d2bb0c88>"
      ]
     },
     "metadata": {},
     "output_type": "display_data"
    },
    {
     "name": "stdout",
     "output_type": "stream",
     "text": [
      "sulphates\n"
     ]
    },
    {
     "data": {
      "image/png": "[encoded data removed]",
      "text/plain": [
       "<matplotlib.figure.Figure at 0x7f08d2bd4b70>"
      ]
     },
     "metadata": {},
     "output_type": "display_data"
    },
    {
     "name": "stdout",
     "output_type": "stream",
     "text": [
      "alcohol\n"
     ]
    },
    {
     "data": {
      "image/png": "[encoded data removed]",
      "text/plain": [
       "<matplotlib.figure.Figure at 0x7f08d2c92048>"
      ]
     },
     "metadata": {},
     "output_type": "display_data"
    },
    {
     "name": "stdout",
     "output_type": "stream",
     "text": [
      "quality\n"
     ]
    },
    {
     "data": {
      "image/png": "[encoded data removed]",
      "text/plain": [
       "<matplotlib.figure.Figure at 0x7f08d383abe0>"
      ]
     },
     "metadata": {},
     "output_type": "display_data"
    }
   ],
   "source": [
    "for col in cols:\n",
    "    print(col)\n",
    "    show_box_plot(col, df)\n",
    "    plt.show()"
   ]
  },
  {
   "cell_type": "code",
   "execution_count": 53,
   "metadata": {},
   "outputs": [],
   "source": [
    "def range1(df, attr):\n",
    "    mn = df[attr].min()\n",
    "    mx = df[attr].max()\n",
    "    return(tuple([mn,mx]))"
   ]
  },
  {
   "cell_type": "code",
   "execution_count": 54,
   "metadata": {},
   "outputs": [
    {
     "name": "stdout",
     "output_type": "stream",
     "text": [
      "fixed_acidity (4.5999999999999996, 12.300000000000001)\n",
      "volatile_acidity (0.12, 1.01)\n",
      "citric_acid (0.0, 0.79000000000000004)\n",
      "residual_sugar (0.90000000000000002, 3.6499999999999999)\n",
      "chlorides (0.040999999999999995, 0.11900000000000001)\n",
      "free_sulfur_dioxide (1.0, 41.0)\n",
      "total_sulfur_dioxide (6.0, 121.0)\n",
      "density (0.99234999999999995, 1.0009999999999999)\n",
      "pH (2.9300000000000002, 3.6800000000000002)\n",
      "sulphates (0.33000000000000002, 0.98999999999999999)\n",
      "alcohol (8.4000000000000004, 13.4)\n",
      "quality (4, 7)\n"
     ]
    }
   ],
   "source": [
    "for col in cols:\n",
    "    print(col, range1(df, col))"
   ]
  },
  {
   "cell_type": "code",
   "execution_count": 55,
   "metadata": {},
   "outputs": [],
   "source": [
    "def min_max_normalization(df, rng1, rng0):\n",
    "    cols = [i for i in df]\n",
    "    cols = cols[:-1]\n",
    "    for col in cols:\n",
    "        mx = df[col].max()\n",
    "        mn = df[col].min()\n",
    "        new_mx = rng1\n",
    "        new_mn = rng0\n",
    "        for i in range(len(df)):\n",
    "            nr=(float(df[col][i])-mn)/(mx-mn)\n",
    "            df[col][i] = (nr*(new_mx-new_mn))+new_mn\n",
    "    return df"
   ]
  },
  {
   "cell_type": "code",
   "execution_count": 56,
   "metadata": {},
   "outputs": [],
   "source": [
    "df = min_max_normalization(df, 1,0)"
   ]
  },
  {
   "cell_type": "code",
   "execution_count": 57,
   "metadata": {},
   "outputs": [
    {
     "data": {
      "text/html": [
       "<div>\n",
       "<style scoped>\n",
       "    .dataframe tbody tr th:only-of-type {\n",
       "        vertical-align: middle;\n",
       "    }\n",
       "\n",
       "    .dataframe tbody tr th {\n",
       "        vertical-align: top;\n",
       "    }\n",
       "\n",
       "    .dataframe thead th {\n",
       "        text-align: right;\n",
       "    }\n",
       "</style>\n",
       "<table border=\"1\" class=\"dataframe\">\n",
       "  <thead>\n",
       "    <tr style=\"text-align: right;\">\n",
       "      <th></th>\n",
       "      <th>fixed_acidity</th>\n",
       "      <th>volatile_acidity</th>\n",
       "      <th>citric_acid</th>\n",
       "      <th>residual_sugar</th>\n",
       "      <th>chlorides</th>\n",
       "      <th>free_sulfur_dioxide</th>\n",
       "      <th>total_sulfur_dioxide</th>\n",
       "      <th>density</th>\n",
       "      <th>pH</th>\n",
       "      <th>sulphates</th>\n",
       "      <th>alcohol</th>\n",
       "      <th>quality</th>\n",
       "    </tr>\n",
       "  </thead>\n",
       "  <tbody>\n",
       "    <tr>\n",
       "      <th>0</th>\n",
       "      <td>0.363636</td>\n",
       "      <td>0.651685</td>\n",
       "      <td>0.000000</td>\n",
       "      <td>0.363636</td>\n",
       "      <td>0.448718</td>\n",
       "      <td>0.25</td>\n",
       "      <td>0.243478</td>\n",
       "      <td>0.630058</td>\n",
       "      <td>0.773333</td>\n",
       "      <td>0.348485</td>\n",
       "      <td>0.20</td>\n",
       "      <td>5</td>\n",
       "    </tr>\n",
       "    <tr>\n",
       "      <th>1</th>\n",
       "      <td>0.415584</td>\n",
       "      <td>0.853933</td>\n",
       "      <td>0.000000</td>\n",
       "      <td>0.618182</td>\n",
       "      <td>0.730769</td>\n",
       "      <td>0.60</td>\n",
       "      <td>0.530435</td>\n",
       "      <td>0.514451</td>\n",
       "      <td>0.360000</td>\n",
       "      <td>0.530303</td>\n",
       "      <td>0.28</td>\n",
       "      <td>5</td>\n",
       "    </tr>\n",
       "    <tr>\n",
       "      <th>2</th>\n",
       "      <td>0.415584</td>\n",
       "      <td>0.719101</td>\n",
       "      <td>0.050633</td>\n",
       "      <td>0.509091</td>\n",
       "      <td>0.653846</td>\n",
       "      <td>0.35</td>\n",
       "      <td>0.417391</td>\n",
       "      <td>0.537572</td>\n",
       "      <td>0.440000</td>\n",
       "      <td>0.484848</td>\n",
       "      <td>0.28</td>\n",
       "      <td>5</td>\n",
       "    </tr>\n",
       "    <tr>\n",
       "      <th>3</th>\n",
       "      <td>0.857143</td>\n",
       "      <td>0.179775</td>\n",
       "      <td>0.708861</td>\n",
       "      <td>0.363636</td>\n",
       "      <td>0.435897</td>\n",
       "      <td>0.40</td>\n",
       "      <td>0.469565</td>\n",
       "      <td>0.653179</td>\n",
       "      <td>0.306667</td>\n",
       "      <td>0.378788</td>\n",
       "      <td>0.28</td>\n",
       "      <td>6</td>\n",
       "    </tr>\n",
       "    <tr>\n",
       "      <th>4</th>\n",
       "      <td>0.363636</td>\n",
       "      <td>0.651685</td>\n",
       "      <td>0.000000</td>\n",
       "      <td>0.363636</td>\n",
       "      <td>0.448718</td>\n",
       "      <td>0.25</td>\n",
       "      <td>0.243478</td>\n",
       "      <td>0.630058</td>\n",
       "      <td>0.773333</td>\n",
       "      <td>0.348485</td>\n",
       "      <td>0.20</td>\n",
       "      <td>5</td>\n",
       "    </tr>\n",
       "  </tbody>\n",
       "</table>\n",
       "</div>"
      ],
      "text/plain": [
       "   fixed_acidity  volatile_acidity  citric_acid  residual_sugar  chlorides  \\\n",
       "0       0.363636          0.651685     0.000000        0.363636   0.448718   \n",
       "1       0.415584          0.853933     0.000000        0.618182   0.730769   \n",
       "2       0.415584          0.719101     0.050633        0.509091   0.653846   \n",
       "3       0.857143          0.179775     0.708861        0.363636   0.435897   \n",
       "4       0.363636          0.651685     0.000000        0.363636   0.448718   \n",
       "\n",
       "   free_sulfur_dioxide  total_sulfur_dioxide   density        pH  sulphates  \\\n",
       "0                 0.25              0.243478  0.630058  0.773333   0.348485   \n",
       "1                 0.60              0.530435  0.514451  0.360000   0.530303   \n",
       "2                 0.35              0.417391  0.537572  0.440000   0.484848   \n",
       "3                 0.40              0.469565  0.653179  0.306667   0.378788   \n",
       "4                 0.25              0.243478  0.630058  0.773333   0.348485   \n",
       "\n",
       "   alcohol  quality  \n",
       "0     0.20        5  \n",
       "1     0.28        5  \n",
       "2     0.28        5  \n",
       "3     0.28        6  \n",
       "4     0.20        5  "
      ]
     },
     "execution_count": 57,
     "metadata": {},
     "output_type": "execute_result"
    }
   ],
   "source": [
    "df.head()"
   ]
  },
  {
   "cell_type": "code",
   "execution_count": 58,
   "metadata": {
    "scrolled": true
   },
   "outputs": [
    {
     "data": {
      "text/html": [
       "<div>\n",
       "<style scoped>\n",
       "    .dataframe tbody tr th:only-of-type {\n",
       "        vertical-align: middle;\n",
       "    }\n",
       "\n",
       "    .dataframe tbody tr th {\n",
       "        vertical-align: top;\n",
       "    }\n",
       "\n",
       "    .dataframe thead th {\n",
       "        text-align: right;\n",
       "    }\n",
       "</style>\n",
       "<table border=\"1\" class=\"dataframe\">\n",
       "  <thead>\n",
       "    <tr style=\"text-align: right;\">\n",
       "      <th></th>\n",
       "      <th>fixed_acidity</th>\n",
       "      <th>volatile_acidity</th>\n",
       "      <th>citric_acid</th>\n",
       "      <th>residual_sugar</th>\n",
       "      <th>chlorides</th>\n",
       "      <th>free_sulfur_dioxide</th>\n",
       "      <th>total_sulfur_dioxide</th>\n",
       "      <th>density</th>\n",
       "      <th>pH</th>\n",
       "      <th>sulphates</th>\n",
       "      <th>alcohol</th>\n",
       "      <th>quality</th>\n",
       "    </tr>\n",
       "  </thead>\n",
       "  <tbody>\n",
       "    <tr>\n",
       "      <th>0</th>\n",
       "      <td>7.272727</td>\n",
       "      <td>13.033708</td>\n",
       "      <td>0.000000</td>\n",
       "      <td>7.272727</td>\n",
       "      <td>8.974359</td>\n",
       "      <td>5.0</td>\n",
       "      <td>4.869565</td>\n",
       "      <td>12.601156</td>\n",
       "      <td>15.466667</td>\n",
       "      <td>6.969697</td>\n",
       "      <td>4.0</td>\n",
       "      <td>5</td>\n",
       "    </tr>\n",
       "    <tr>\n",
       "      <th>1</th>\n",
       "      <td>8.311688</td>\n",
       "      <td>17.078652</td>\n",
       "      <td>0.000000</td>\n",
       "      <td>12.363636</td>\n",
       "      <td>14.615385</td>\n",
       "      <td>12.0</td>\n",
       "      <td>10.608696</td>\n",
       "      <td>10.289017</td>\n",
       "      <td>7.200000</td>\n",
       "      <td>10.606061</td>\n",
       "      <td>5.6</td>\n",
       "      <td>5</td>\n",
       "    </tr>\n",
       "    <tr>\n",
       "      <th>2</th>\n",
       "      <td>8.311688</td>\n",
       "      <td>14.382022</td>\n",
       "      <td>1.012658</td>\n",
       "      <td>10.181818</td>\n",
       "      <td>13.076923</td>\n",
       "      <td>7.0</td>\n",
       "      <td>8.347826</td>\n",
       "      <td>10.751445</td>\n",
       "      <td>8.800000</td>\n",
       "      <td>9.696970</td>\n",
       "      <td>5.6</td>\n",
       "      <td>5</td>\n",
       "    </tr>\n",
       "    <tr>\n",
       "      <th>3</th>\n",
       "      <td>17.142857</td>\n",
       "      <td>3.595506</td>\n",
       "      <td>14.177215</td>\n",
       "      <td>7.272727</td>\n",
       "      <td>8.717949</td>\n",
       "      <td>8.0</td>\n",
       "      <td>9.391304</td>\n",
       "      <td>13.063584</td>\n",
       "      <td>6.133333</td>\n",
       "      <td>7.575758</td>\n",
       "      <td>5.6</td>\n",
       "      <td>6</td>\n",
       "    </tr>\n",
       "    <tr>\n",
       "      <th>4</th>\n",
       "      <td>7.272727</td>\n",
       "      <td>13.033708</td>\n",
       "      <td>0.000000</td>\n",
       "      <td>7.272727</td>\n",
       "      <td>8.974359</td>\n",
       "      <td>5.0</td>\n",
       "      <td>4.869565</td>\n",
       "      <td>12.601156</td>\n",
       "      <td>15.466667</td>\n",
       "      <td>6.969697</td>\n",
       "      <td>4.0</td>\n",
       "      <td>5</td>\n",
       "    </tr>\n",
       "  </tbody>\n",
       "</table>\n",
       "</div>"
      ],
      "text/plain": [
       "   fixed_acidity  volatile_acidity  citric_acid  residual_sugar  chlorides  \\\n",
       "0       7.272727         13.033708     0.000000        7.272727   8.974359   \n",
       "1       8.311688         17.078652     0.000000       12.363636  14.615385   \n",
       "2       8.311688         14.382022     1.012658       10.181818  13.076923   \n",
       "3      17.142857          3.595506    14.177215        7.272727   8.717949   \n",
       "4       7.272727         13.033708     0.000000        7.272727   8.974359   \n",
       "\n",
       "   free_sulfur_dioxide  total_sulfur_dioxide    density         pH  sulphates  \\\n",
       "0                  5.0              4.869565  12.601156  15.466667   6.969697   \n",
       "1                 12.0             10.608696  10.289017   7.200000  10.606061   \n",
       "2                  7.0              8.347826  10.751445   8.800000   9.696970   \n",
       "3                  8.0              9.391304  13.063584   6.133333   7.575758   \n",
       "4                  5.0              4.869565  12.601156  15.466667   6.969697   \n",
       "\n",
       "   alcohol  quality  \n",
       "0      4.0        5  \n",
       "1      5.6        5  \n",
       "2      5.6        5  \n",
       "3      5.6        6  \n",
       "4      4.0        5  "
      ]
     },
     "execution_count": 58,
     "metadata": {},
     "output_type": "execute_result"
    }
   ],
   "source": [
    "df2 = min_max_normalization(df2, 20,0)\n",
    "df2.head()"
   ]
  },
  {
   "cell_type": "code",
   "execution_count": 64,
   "metadata": {},
   "outputs": [],
   "source": [
    "def standardize(df):\n",
    "    cols = [i for i in df]\n",
    "    cols = cols[:-1]\n",
    "    for col in cols:\n",
    "        mean = df[col].mean()\n",
    "        stdDev = df[col].std()\n",
    "        print(\"col=\",col,\"; mean=\",mean,\"; stdDev=\",stdDev)\n",
    "        for i in range(len(df)):\n",
    "            df[col][i] = ((df[col][i])-mean)/stdDev\n",
    "    return df"
   ]
  },
  {
   "cell_type": "code",
   "execution_count": 65,
   "metadata": {},
   "outputs": [
    {
     "name": "stdout",
     "output_type": "stream",
     "text": [
      "col= fixed_acidity ; mean= 9.23255606182 ; stdDev= 3.87242266832\n",
      "col= volatile_acidity ; mean= 9.00106105642 ; stdDev= 3.7210709136\n",
      "col= citric_acid ; mean= 6.84842583577 ; stdDev= 4.91000604367\n",
      "col= residual_sugar ; mean= 9.32219000512 ; stdDev= 3.10432812372\n",
      "col= chlorides ; mean= 9.68538028576 ; stdDev= 3.67561873577\n",
      "col= free_sulfur_dioxide ; mean= 7.05565978737 ; stdDev= 4.53335892062\n",
      "col= total_sulfur_dioxide ; mean= 6.37702912146 ; stdDev= 4.61520179083\n",
      "col= density ; mean= 10.1387644735 ; stdDev= 3.79901418695\n",
      "col= pH ; mean= 10.1013133208 ; stdDev= 3.70536604555\n",
      "col= sulphates ; mean= 9.26696609623 ; stdDev= 3.59847122129\n",
      "col= alcohol ; mean= 7.96293516781 ; stdDev= 4.05773612669\n"
     ]
    },
    {
     "data": {
      "text/html": [
       "<div>\n",
       "<style scoped>\n",
       "    .dataframe tbody tr th:only-of-type {\n",
       "        vertical-align: middle;\n",
       "    }\n",
       "\n",
       "    .dataframe tbody tr th {\n",
       "        vertical-align: top;\n",
       "    }\n",
       "\n",
       "    .dataframe thead th {\n",
       "        text-align: right;\n",
       "    }\n",
       "</style>\n",
       "<table border=\"1\" class=\"dataframe\">\n",
       "  <thead>\n",
       "    <tr style=\"text-align: right;\">\n",
       "      <th></th>\n",
       "      <th>fixed_acidity</th>\n",
       "      <th>volatile_acidity</th>\n",
       "      <th>citric_acid</th>\n",
       "      <th>residual_sugar</th>\n",
       "      <th>chlorides</th>\n",
       "      <th>free_sulfur_dioxide</th>\n",
       "      <th>total_sulfur_dioxide</th>\n",
       "      <th>density</th>\n",
       "      <th>pH</th>\n",
       "      <th>sulphates</th>\n",
       "      <th>alcohol</th>\n",
       "      <th>quality</th>\n",
       "    </tr>\n",
       "  </thead>\n",
       "  <tbody>\n",
       "    <tr>\n",
       "      <th>0</th>\n",
       "      <td>-0.506099</td>\n",
       "      <td>1.083733</td>\n",
       "      <td>-1.394790</td>\n",
       "      <td>-0.660195</td>\n",
       "      <td>-0.193443</td>\n",
       "      <td>-0.453452</td>\n",
       "      <td>-0.326630</td>\n",
       "      <td>0.648166</td>\n",
       "      <td>1.447995</td>\n",
       "      <td>-0.638401</td>\n",
       "      <td>-0.976637</td>\n",
       "      <td>5</td>\n",
       "    </tr>\n",
       "    <tr>\n",
       "      <th>1</th>\n",
       "      <td>-0.237801</td>\n",
       "      <td>2.170770</td>\n",
       "      <td>-1.394790</td>\n",
       "      <td>0.979744</td>\n",
       "      <td>1.341272</td>\n",
       "      <td>1.090657</td>\n",
       "      <td>0.916897</td>\n",
       "      <td>0.039550</td>\n",
       "      <td>-0.783003</td>\n",
       "      <td>0.372129</td>\n",
       "      <td>-0.582328</td>\n",
       "      <td>5</td>\n",
       "    </tr>\n",
       "    <tr>\n",
       "      <th>2</th>\n",
       "      <td>-0.237801</td>\n",
       "      <td>1.446079</td>\n",
       "      <td>-1.188546</td>\n",
       "      <td>0.276913</td>\n",
       "      <td>0.922713</td>\n",
       "      <td>-0.012278</td>\n",
       "      <td>0.427023</td>\n",
       "      <td>0.161274</td>\n",
       "      <td>-0.351197</td>\n",
       "      <td>0.119496</td>\n",
       "      <td>-0.582328</td>\n",
       "      <td>5</td>\n",
       "    </tr>\n",
       "    <tr>\n",
       "      <th>3</th>\n",
       "      <td>2.042727</td>\n",
       "      <td>-1.452688</td>\n",
       "      <td>1.492623</td>\n",
       "      <td>-0.660195</td>\n",
       "      <td>-0.263202</td>\n",
       "      <td>0.208309</td>\n",
       "      <td>0.653119</td>\n",
       "      <td>0.769889</td>\n",
       "      <td>-1.070874</td>\n",
       "      <td>-0.469980</td>\n",
       "      <td>-0.582328</td>\n",
       "      <td>6</td>\n",
       "    </tr>\n",
       "    <tr>\n",
       "      <th>4</th>\n",
       "      <td>-0.506099</td>\n",
       "      <td>1.083733</td>\n",
       "      <td>-1.394790</td>\n",
       "      <td>-0.660195</td>\n",
       "      <td>-0.193443</td>\n",
       "      <td>-0.453452</td>\n",
       "      <td>-0.326630</td>\n",
       "      <td>0.648166</td>\n",
       "      <td>1.447995</td>\n",
       "      <td>-0.638401</td>\n",
       "      <td>-0.976637</td>\n",
       "      <td>5</td>\n",
       "    </tr>\n",
       "  </tbody>\n",
       "</table>\n",
       "</div>"
      ],
      "text/plain": [
       "   fixed_acidity  volatile_acidity  citric_acid  residual_sugar  chlorides  \\\n",
       "0      -0.506099          1.083733    -1.394790       -0.660195  -0.193443   \n",
       "1      -0.237801          2.170770    -1.394790        0.979744   1.341272   \n",
       "2      -0.237801          1.446079    -1.188546        0.276913   0.922713   \n",
       "3       2.042727         -1.452688     1.492623       -0.660195  -0.263202   \n",
       "4      -0.506099          1.083733    -1.394790       -0.660195  -0.193443   \n",
       "\n",
       "   free_sulfur_dioxide  total_sulfur_dioxide   density        pH  sulphates  \\\n",
       "0            -0.453452             -0.326630  0.648166  1.447995  -0.638401   \n",
       "1             1.090657              0.916897  0.039550 -0.783003   0.372129   \n",
       "2            -0.012278              0.427023  0.161274 -0.351197   0.119496   \n",
       "3             0.208309              0.653119  0.769889 -1.070874  -0.469980   \n",
       "4            -0.453452             -0.326630  0.648166  1.447995  -0.638401   \n",
       "\n",
       "    alcohol  quality  \n",
       "0 -0.976637        5  \n",
       "1 -0.582328        5  \n",
       "2 -0.582328        5  \n",
       "3 -0.582328        6  \n",
       "4 -0.976637        5  "
      ]
     },
     "execution_count": 65,
     "metadata": {},
     "output_type": "execute_result"
    }
   ],
   "source": [
    "df3 = standardize(df3)\n",
    "df3.head()"
   ]
  },
  {
   "cell_type": "code",
   "execution_count": 67,
   "metadata": {},
   "outputs": [
    {
     "name": "stdout",
     "output_type": "stream",
     "text": [
      "col= fixed_acidity ; mean= -1.77746775675e-17 ; stdDev= 1.0\n",
      "col= volatile_acidity ; mean= 8.44297184455e-17 ; stdDev= 1.0\n",
      "col= citric_acid ; mean= -2.31070808377e-16 ; stdDev= 1.0\n",
      "col= residual_sugar ; mean= -2.66620163512e-16 ; stdDev= 1.0\n",
      "col= chlorides ; mean= -2.66620163512e-16 ; stdDev= 1.0\n",
      "col= free_sulfur_dioxide ; mean= 0.0 ; stdDev= 1.0\n",
      "col= total_sulfur_dioxide ; mean= 1.77746775675e-17 ; stdDev= 1.0\n",
      "col= density ; mean= 2.1329613081e-16 ; stdDev= 1.0\n",
      "col= pH ; mean= 6.22113714862e-17 ; stdDev= 1.0\n",
      "col= sulphates ; mean= 2.66620163512e-17 ; stdDev= 1.0\n",
      "col= alcohol ; mean= -3.5549355135e-17 ; stdDev= 1.0\n"
     ]
    }
   ],
   "source": [
    "cols = [i for i in df3]\n",
    "cols = cols[:-1]\n",
    "for col in cols:\n",
    "    mean = df[col].mean()\n",
    "    stdDev = df[col].std()\n",
    "    print(\"col=\",col,\"; mean=\",mean,\"; stdDev=\",stdDev)"
   ]
  },
  {
   "cell_type": "code",
   "execution_count": null,
   "metadata": {},
   "outputs": [],
   "source": []
  }
 ],
 "metadata": {
  "kernelspec": {
   "display_name": "Python 3",
   "language": "python",
   "name": "python3"
  },
  "language_info": {
   "codemirror_mode": {
    "name": "ipython",
    "version": 3
   },
   "file_extension": ".py",
   "mimetype": "text/x-python",
   "name": "python",
   "nbconvert_exporter": "python",
   "pygments_lexer": "ipython3",
   "version": "3.7.4"
  }
 },
 "nbformat": 4,
 "nbformat_minor": 4
}

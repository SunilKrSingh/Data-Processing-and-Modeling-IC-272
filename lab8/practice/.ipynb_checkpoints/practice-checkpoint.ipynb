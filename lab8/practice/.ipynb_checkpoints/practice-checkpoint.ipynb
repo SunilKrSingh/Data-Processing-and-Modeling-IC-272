{
 "cells": [
  {
   "cell_type": "code",
   "execution_count": 1,
   "metadata": {},
   "outputs": [],
   "source": [
    "import numpy as np\n",
    "import matplotlib.pyplot as plt\n",
    "import pandas as pd\n",
    "from sklearn.preprocessing import MinMaxScaler\n",
    "from sklearn.preprocessing import StandardScaler\n",
    "from sklearn.neighbors import KNeighborsClassifier\n",
    "from sklearn.metrics import confusion_matrix\n",
    "from sklearn.metrics import accuracy_score\n",
    "from sklearn.model_selection import train_test_split\n",
    "from sklearn.naive_bayes import GaussianNB\n",
    "from sklearn.decomposition import PCA\n",
    "from scipy.stats import multivariate_normal\n",
    "from sklearn.mixture import GaussianMixture\n",
    "import scipy\n",
    "import warnings\n",
    "from sklearn.exceptions import DataConversionWarning\n",
    "warnings.filterwarnings(action='ignore', category=DataConversionWarning) #remove warning"
   ]
  },
  {
   "cell_type": "code",
   "execution_count": 2,
   "metadata": {},
   "outputs": [],
   "source": [
    "def load_dataset(path_to_file):\n",
    "    df=pd.read_csv(path_to_file)\n",
    "    return df"
   ]
  },
  {
   "cell_type": "code",
   "execution_count": 4,
   "metadata": {},
   "outputs": [],
   "source": [
    "def train_test(df):\n",
    "    X=df.drop(df.columns[-1],axis=1)\n",
    "    y=df[df.columns[-1]]\n",
    "    XTrain, XTest, yTrain, yTest = train_test_split(X, y, test_size=0.3, random_state=42)\n",
    "    return(XTrain,XTest,yTrain,yTest)"
   ]
  },
  {
   "cell_type": "code",
   "execution_count": 5,
   "metadata": {},
   "outputs": [],
   "source": [
    "def percentage_accuracy(yPred,yTest):\n",
    "    return(accuracy_score(yTest, yPred))"
   ]
  },
  {
   "cell_type": "code",
   "execution_count": 6,
   "metadata": {},
   "outputs": [],
   "source": [
    "def confusion_matrixp(yPred,yTest):\n",
    "    return(confusion_matrix(yTest,yPred))"
   ]
  },
  {
   "cell_type": "code",
   "execution_count": 227,
   "metadata": {},
   "outputs": [
    {
     "name": "stdout",
     "output_type": "stream",
     "text": [
      "K =  1\n",
      "[[110   1]\n",
      " [  1  63]]\n",
      "0.9885714285714285 \n",
      "\n",
      "K =  3\n",
      "[[110   1]\n",
      " [  2  62]]\n",
      "0.9828571428571429 \n",
      "\n",
      "K =  5\n",
      "[[110   1]\n",
      " [  2  62]]\n",
      "0.9828571428571429 \n",
      "\n",
      "K =  7\n",
      "[[110   1]\n",
      " [  2  62]]\n",
      "0.9828571428571429 \n",
      "\n",
      "K =  9\n",
      "[[110   1]\n",
      " [  3  61]]\n",
      "0.9771428571428571 \n",
      "\n",
      "K =  11\n",
      "[[110   1]\n",
      " [  3  61]]\n",
      "0.9771428571428571 \n",
      "\n",
      "K =  13\n",
      "[[110   1]\n",
      " [  2  62]]\n",
      "0.9828571428571429 \n",
      "\n",
      "K =  15\n",
      "[[110   1]\n",
      " [  3  61]]\n",
      "0.9771428571428571 \n",
      "\n",
      "K =  17\n",
      "[[109   2]\n",
      " [  2  62]]\n",
      "0.9771428571428571 \n",
      "\n",
      "K =  19\n",
      "[[107   4]\n",
      " [  2  62]]\n",
      "0.9657142857142857 \n",
      "\n",
      "K =  21\n",
      "[[105   6]\n",
      " [  2  62]]\n",
      "0.9542857142857143 \n",
      "\n",
      "Confusion Matrix by KNN Classifier: \n",
      " [[109.18181818   1.81818182]\n",
      " [  2.18181818  61.81818182]] \n",
      "\n",
      "Accuracy by KNN Classifier: 0.9771428571428572\n"
     ]
    },
    {
     "data": {
      "image/png": "[encoded data removed]",
      "text/plain": [
       "<matplotlib.figure.Figure at 0x7f21c90ae668>"
      ]
     },
     "metadata": {},
     "output_type": "display_data"
    }
   ],
   "source": [
    "#part1\n",
    "\n",
    "path = \"./winequality-red.csv\"\n",
    "df = load_dataset(path)\n",
    "\n",
    "XTrain=train_test(dfStd)[0]\n",
    "XTest=train_test(dfStd)[1]\n",
    "yTrain=train_test(dfStd)[2]\n",
    "yTest=train_test(dfStd)[3]\n",
    "X = df\n",
    "y = df['Z_Scratch']\n",
    "yTest = train_test(df)[3]\n",
    "\n",
    "k = range(1,22,2)\n",
    "accuracies=[]\n",
    "confusion=[]\n",
    "for i in k:\n",
    "    print(\"K = \",i)\n",
    "    yPredKnn=knn_classifier(i,XTrain,yTrain,XTest)\n",
    "    print(confusion_matrixp(yPredKnn,yTest))\n",
    "    confusion.append(confusion_matrixp(yPredKnn,yTest))\n",
    "    print(percentage_accuracy(yPredKnn,yTest),\"\\n\")\n",
    "    accuracies.append(percentage_accuracy(yPredKnn,yTest))\n",
    "\n",
    "print(\"Confusion Matrix by KNN Classifier: \\n\",sum(confusion)/len(confusion),\"\\n\")\n",
    "print(\"Accuracy by KNN Classifier:\",sum(accuracies)/len(accuracies))\n",
    "plt.plot(range(1,22,2),accuracies,color='b')\n",
    "plt.xlabel(\"Value of k\")\n",
    "plt.ylabel(\"Accuracy\")\n",
    "plt.show()"
   ]
  }
 ],
 "metadata": {
  "kernelspec": {
   "display_name": "Python 3",
   "language": "python",
   "name": "python3"
  },
  "language_info": {
   "codemirror_mode": {
    "name": "ipython",
    "version": 3
   },
   "file_extension": ".py",
   "mimetype": "text/x-python",
   "name": "python",
   "nbconvert_exporter": "python",
   "pygments_lexer": "ipython3",
   "version": "3.6.8"
  }
 },
 "nbformat": 4,
 "nbformat_minor": 2
}
